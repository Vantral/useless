{
 "cells": [
  {
   "cell_type": "code",
   "execution_count": 1,
   "metadata": {},
   "outputs": [],
   "source": [
    "import sqlite3\n",
    "import re\n",
    "from nltk.tokenize import word_tokenize"
   ]
  },
  {
   "cell_type": "markdown",
   "metadata": {},
   "source": [
    "## Эта программа нужна для поиска в базе данных"
   ]
  },
  {
   "cell_type": "code",
   "execution_count": 2,
   "metadata": {},
   "outputs": [],
   "source": [
    "conn = sqlite3.connect('songs.db')\n",
    "c = conn.cursor()"
   ]
  },
  {
   "cell_type": "code",
   "execution_count": 3,
   "metadata": {},
   "outputs": [],
   "source": [
    "all_songs = list(c.execute('SELECT * from songs'))"
   ]
  },
  {
   "cell_type": "code",
   "execution_count": 4,
   "metadata": {},
   "outputs": [],
   "source": [
    "def search(word, form='seq'):\n",
    "    '''\n",
    "    выбираешь режим, вбиваешь слово, радуешься жизни.\n",
    "    если режим seq, то ещё выведется слово, в котором последовательность найдена.\n",
    "    '''\n",
    "    good = []\n",
    "    for song in all_songs:\n",
    "        text = song[3].lower()\n",
    "        if form == 'seq':\n",
    "            if word in text:\n",
    "                for token in text.split():\n",
    "                    if word in token:\n",
    "                        good.append('\\t'.join([song[1], song[2], token]))\n",
    "                        break\n",
    "        if form == 'token':\n",
    "            if word in word_tokenize(text):\n",
    "                good.append('t'.join([song[1],song[2]]))\n",
    "    return '\\n'.join(good)"
   ]
  },
  {
   "cell_type": "code",
   "execution_count": 5,
   "metadata": {},
   "outputs": [
    {
     "name": "stdout",
     "output_type": "stream",
     "text": [
      "Manjawe\tSophie Choudry\tkhoya,\n",
      "Hollywood\tAngus & Julia Stone\troyalty\n",
      "Loyalty\tEmma Stevens\tloyalty\n",
      "Kings of the Wild Frontier\tAdam and the Ants\troyal\n",
      "Ant Rap\tAdam and the Ants\tincroyables\n",
      "Overtime\tClement Marfo and the Frontline\troyal\n",
      "Reflektor\tArcade Fire\troyaume\n",
      "Blood Thirsty Bastards\tDirty Pretty Things\tloyalties\n",
      "Apocalypse Cypher\tSB.TV\troyal\n",
      "A Thousand Times\tElla Mai\tloyalty\n",
      "Veil\tHaken\tloyal\n",
      "Empire of the Clouds\tIron Maiden\troyalty\n",
      "Bonfire Heart\tJames Blunt\tloyal\n",
      "Battle Flag\tLo Fidelity Allstars\tloyal\n",
      "Battleflag\tPigeonhed\tloyal\n",
      "Hypocrite\tLush\tloyalties\n",
      "Tiger, My Friend\tPsapp\troyal\n",
      "Work, Work Work (Pub, Club, Sleep)\tThe Rakes\tsoya\n",
      "Lock Down\tStooshe\tloyal\n",
      "Wreckin’ Bar (Ra Ra Ra)\tThe Vaccines\troyal\n",
      "Beautifully Unconventional\tWolf Alice\tloyal\n",
      "Don’t Waste My Time (Remix)\tKrept & Konan\thoya\n",
      "Fire in the Booth Part 5\tWretch 32\troyal\n"
     ]
    }
   ],
   "source": [
    "print(search('oya', form='seq'))"
   ]
  }
 ],
 "metadata": {
  "kernelspec": {
   "display_name": "Python 3",
   "language": "python",
   "name": "python3"
  },
  "language_info": {
   "codemirror_mode": {
    "name": "ipython",
    "version": 3
   },
   "file_extension": ".py",
   "mimetype": "text/x-python",
   "name": "python",
   "nbconvert_exporter": "python",
   "pygments_lexer": "ipython3",
   "version": "3.7.6"
  }
 },
 "nbformat": 4,
 "nbformat_minor": 4
}
